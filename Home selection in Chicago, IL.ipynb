{
    "cells": [
        {
            "cell_type": "markdown",
            "metadata": {
                "collapsed": true
            },
            "source": "Introduction/Business Problem \n\nPeople look at a variety of factors when deciding to rent/buy a home in a new town. Location is a major driver of this decision. A lot of manual effort goes into this process along with realtor fees. In this problem, I will be analyzing Chicago neighborhoods to provide recommendations on neighborhoods to rent/buy homes based on proxomity to a combination of certain venues per the user's preference"
        },
        {
            "cell_type": "markdown",
            "metadata": {},
            "source": "Data\n\nThree sets of data will be required for this problem:\n\n1. Chicago neighborhoods and associated zip codes: will be scraped from https://www.dreamtown.com/maps/chicago-zipcode-map\n\n2. The above data will be converted to a dataframe and a longitude/latitude will be appended to the table using Geocoder Python package: https://geocoder.readthedocs.io/index.html\n\n3. For each neighborhood, I will get the nearby venues and associated latitudes/longitudes and categories using the following \n\nLIMIT = 100 # limit of number of venues returned by Foursquare API\nradius = 500 # define radius\nurl = 'https://api.foursquare.com/v2/venues/explore?&client_id={}&client_secret={}&v={}&ll={},{}&radius={}&limit={}'.format(\n    CLIENT_ID, \n    CLIENT_SECRET, \n    VERSION, \n    neighborhood_latitude, \n    neighborhood_longitude, \n    radius, \n    LIMIT)\nresults = requests.get(url).json()\n\n\nFollowing this I will clean the json and structure it into a pandas dataframe"
        }
    ],
    "metadata": {
        "kernelspec": {
            "display_name": "Python 3.6",
            "language": "python",
            "name": "python3"
        },
        "language_info": {
            "codemirror_mode": {
                "name": "ipython",
                "version": 3
            },
            "file_extension": ".py",
            "mimetype": "text/x-python",
            "name": "python",
            "nbconvert_exporter": "python",
            "pygments_lexer": "ipython3",
            "version": "3.6.9"
        }
    },
    "nbformat": 4,
    "nbformat_minor": 1
}